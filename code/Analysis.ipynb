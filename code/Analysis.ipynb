{
 "cells": [
  {
   "cell_type": "code",
   "execution_count": 1,
   "metadata": {},
   "outputs": [],
   "source": [
    "import pandas as pd"
   ]
  },
  {
   "cell_type": "code",
   "execution_count": 2,
   "metadata": {},
   "outputs": [],
   "source": [
    "%matplotlib inline\n",
    "import matplotlib.pyplot as plt"
   ]
  },
  {
   "cell_type": "code",
   "execution_count": 3,
   "metadata": {},
   "outputs": [],
   "source": [
    "import analysis as an"
   ]
  },
  {
   "cell_type": "code",
   "execution_count": 4,
   "metadata": {},
   "outputs": [],
   "source": [
    "import visualisation as vis"
   ]
  },
  {
   "cell_type": "code",
   "execution_count": 5,
   "metadata": {},
   "outputs": [],
   "source": [
    "df=pd.read_csv(\"../data/CometLanding_ref.csv\")"
   ]
  },
  {
   "cell_type": "code",
   "execution_count": 13,
   "metadata": {
    "scrolled": true
   },
   "outputs": [],
   "source": [
    "times = vis.getTweetsPerDay(df)"
   ]
  },
  {
   "cell_type": "code",
   "execution_count": 14,
   "metadata": {},
   "outputs": [
    {
     "data": {
      "image/png": "[encoded data removed]",
      "text/plain": [
       "<matplotlib.figure.Figure at 0x7f7cd18538d0>"
      ]
     },
     "metadata": {},
     "output_type": "display_data"
    }
   ],
   "source": [
    "vis.plotTweetsPerDay(times)"
   ]
  },
  {
   "cell_type": "code",
   "execution_count": 8,
   "metadata": {},
   "outputs": [],
   "source": [
    "#print(\"Number of unique users:\", an.getNumberOfUniqueUsers(df))"
   ]
  },
  {
   "cell_type": "code",
   "execution_count": 9,
   "metadata": {},
   "outputs": [],
   "source": [
    "#an.printAnalysis(df)"
   ]
  },
  {
   "cell_type": "code",
   "execution_count": 10,
   "metadata": {},
   "outputs": [],
   "source": [
    "# an.printAverages(df)"
   ]
  },
  {
   "cell_type": "code",
   "execution_count": 11,
   "metadata": {},
   "outputs": [],
   "source": [
    "#vis.plotStructure(df)"
   ]
  },
  {
   "cell_type": "code",
   "execution_count": 11,
   "metadata": {
    "scrolled": false
   },
   "outputs": [
    {
     "data": {
      "text/plain": [
       "array([nan, 'loc: 41.4036054,2.15761003', 'loc: 0,0',\n",
       "       'loc: 28.6699659,-81.4046639', 'loc: 52.14424284,-0.73937559',\n",
       "       'loc: 50.77439594,-0.86328456', 'loc: 50.77441413,-0.86334451',\n",
       "       'loc: 40.4037751,-3.7215032', 'loc: 54.5485331,-3.5858253',\n",
       "       'loc: 41.9071466,12.5387761', 'loc: 47.4685648,-52.7842918',\n",
       "       'loc: 0.3192548,32.5708316', 'loc: 51.4534496,-0.1123926',\n",
       "       'loc: 42.02949317,-93.65160845', 'loc: 43.64169164,-79.41231961',\n",
       "       'loc: 64.5565,12.6654', 'loc: 39.0724,21.8456',\n",
       "       'loc: -37.82367032,144.96654907', 'loc: 52.3731,4.8932',\n",
       "       'loc: 50.501,4.4768', 'loc: 52.5161,13.377', 'loc: 51.5063,-0.1271',\n",
       "       'loc: -33.463,-70.6479', 'loc: 51.43140199,-0.09029137',\n",
       "       'loc: 55.068472,-6.5255613', 'loc: 43.7671033,-79.4958872',\n",
       "       'loc: 54.3137812,-1.8188967', 'loc: 37.8200553,-79.8335115',\n",
       "       'loc: 53.95526103,-1.06563469', 'loc: 53.4017255,-2.9746715',\n",
       "       'loc: 36.8394138,10.0440679', 'loc: -26.352024,28.106652',\n",
       "       'loc: 43.0171959,-81.2357235', 'loc: 38.16548727,-84.60516161',\n",
       "       'loc: 43.75460233,-79.3677012', 'loc: 38.8991,-77.029',\n",
       "       'loc: 52.38213405,-1.53542634', 'loc: 40.70703471,-74.01828216',\n",
       "       'loc: 54.96555754,-1.78340362', 'loc: 43.1763995,-80.24653618',\n",
       "       'loc: 51.518118,-0.101868', 'loc: 38.97313423,-76.55701597',\n",
       "       'loc: 38.439472,27.1832577', 'loc: 52.5407532,13.4326058',\n",
       "       'loc: 39.9217913,32.8656983', 'loc: 38.5087541,27.7039114',\n",
       "       'loc: 55.9513857,-3.1430156', 'loc: 47.2687271,11.4126099',\n",
       "       'loc: 55.5903088,13.01341418', 'loc: 38.9901,-9.1413',\n",
       "       'loc: 40.6791275,-3.6134082', 'loc: 4.6564,-74.1178',\n",
       "       'loc: 40.4203,-3.7058', 'loc: 51.80083404,-3.17494876',\n",
       "       'loc: 37.7764874,-122.41747011', 'loc: 40.6791951,-3.6134334',\n",
       "       'loc: 11.8608137,13.121692', 'loc: 38.91264446,1.4300882',\n",
       "       'loc: 38.94471556,-92.32457891', 'loc: 34.0430107,-118.6967282',\n",
       "       'loc: 53.0612311,-1.3337337', 'loc: 41.148194,1.096076',\n",
       "       'loc: 55.71711197,37.6186905', 'loc: 54.96879132,-1.54341769',\n",
       "       'loc: 51.06745068,3.63563537', 'loc: 38.03718932,-84.50125393',\n",
       "       'loc: 45.42718663,-75.63895405', 'loc: 47.26942271,-2.27689107',\n",
       "       'loc: 52.36542785,-0.67775566', 'loc: 53.19835877,5.80357069',\n",
       "       'loc: 36.39685511,-97.68602821', 'loc: 17.4014395,78.3883714',\n",
       "       'loc: 53.71127317,-0.87297489', 'loc: 51.56294505,0.03861346',\n",
       "       'loc: -19.93213783,-43.93856976', 'loc: 38.99360326,-77.01766224',\n",
       "       'loc: 54.07694554,-4.7399829', 'loc: 51.289036,-1.0696108',\n",
       "       'loc: 37.77813052,-122.45948179', 'loc: 37.43157884,-122.16394115',\n",
       "       'loc: 5.8249913,-73.0321023', 'loc: -32.5234151,115.7011504',\n",
       "       'loc: 30.0189414,-95.45916849', 'loc: 50.89587265,6.98796487',\n",
       "       'loc: 57.47543574,-4.23990501', 'loc: 37.9030981,23.7462531',\n",
       "       'loc: 50.0245197,19.945359', 'loc: 52.2649673,4.5640193',\n",
       "       'loc: 53.95928356,-1.0868073', 'loc: 50.87038385,4.72174246',\n",
       "       'loc: 41.1051443,16.8375971', 'loc: 45.48532111,9.20693941',\n",
       "       'loc: 53.3761622,-1.4830735', 'loc: 44.80758694,-0.59982286',\n",
       "       'loc: 15.7552051,119.9107296', 'loc: 40.45445351,-88.95248125',\n",
       "       'loc: 37.76182181,-122.43513211', 'loc: 54.87739052,-1.75923006',\n",
       "       'loc: 51.5532982,-1.7850772', 'loc: 34.75679016,-106.91065979',\n",
       "       'loc: 55.9535944,-3.18994683', 'loc: -32.5234181,115.7010897',\n",
       "       'loc: 39.45583946,-0.35739195', 'loc: 35.82533776,-78.75892605',\n",
       "       'loc: 39.5726208,2.6195663', 'loc: 51.7765107,19.4544773',\n",
       "       'loc: 51.5057156,-0.0225855', 'loc: 55.85900396,-4.26879155',\n",
       "       'loc: 50.88192788,-0.26187263', 'loc: -26.19498,28.3165',\n",
       "       'loc: 53.70638018,-0.87777629', 'loc: 51.51861557,-0.14363558',\n",
       "       'loc: 51.52091215,-0.09265974', 'loc: 19.4238972,-99.2039999',\n",
       "       'loc: 54.87735995,-1.75920393', 'loc: 49.8715762,8.6235075',\n",
       "       'loc: 30.05627863,-95.18876963', 'loc: 52.49316113,13.43699967',\n",
       "       'loc: 13.07173929,77.52389286', 'loc: 51.99760638,-0.54077921',\n",
       "       'loc: 33.61916617,-79.01923503', 'loc: 53.35184053,-1.48493519',\n",
       "       'loc: 40.40024304,-77.02019667', 'loc: 43.0490154,-77.49538159',\n",
       "       'loc: 37.6527332,-122.4121361', 'loc: 39.53930551,-119.81297991',\n",
       "       'loc: 52.62403967,1.3038751', 'loc: 50.7241275,7.088414',\n",
       "       'loc: 4.6750987,-74.0477213', 'loc: 38.03128619,-121.25038315',\n",
       "       'loc: 51.06214117,-1.33577793', 'loc: -26.10529765,27.90730242',\n",
       "       'loc: 23.7566663,90.3671147', 'loc: 45.5010213,9.1546916',\n",
       "       'loc: 52.51942054,13.46986396', 'loc: 43.59473339,1.4467894',\n",
       "       'loc: 51.92761573,0.69925005', 'loc: 45.4468438,8.6469014',\n",
       "       'loc: 42.3559107,-71.0985181', 'loc: 49.18623,-0.2809189',\n",
       "       'loc: 38.98830153,-76.94201014', 'loc: 54.99802855,-1.6744198',\n",
       "       'loc: 51.2428281,-0.59524113', 'loc: 40.1636652,-75.1514843',\n",
       "       'loc: 52.21537159,4.42064917', 'loc: 51.1159443,17.0501641',\n",
       "       'loc: 32.8257347,-117.19905862', 'loc: -12.10422372,-76.99316599',\n",
       "       'loc: -29.75760568,31.05891589', 'loc: 6.2420643,-75.6008272',\n",
       "       'loc: 51.7885294,-4.971087', 'loc: 33.52355752,-86.76310346',\n",
       "       'loc: 43.2849123,-2.1728082', 'loc: 56.23711169,10.23109608',\n",
       "       'loc: 13.0193179,80.1560007', 'loc: 12.990445,77.7301023',\n",
       "       'loc: 34.14139753,-118.1386726', 'loc: 40.73849235,-73.99586564',\n",
       "       'loc: 53.43189083,-2.80048737', 'loc: 52.30630631,5.03905753',\n",
       "       'loc: 49.87549704,8.61845449', 'loc: 34.15920757,-118.05555032',\n",
       "       'loc: 51.9940589,7.6631943', 'loc: 50.7145291,7.12162935',\n",
       "       'loc: 35.2368733,-80.7931668', 'loc: 41.6637619,-4.7049935',\n",
       "       'loc: 47.36878283,8.5395647', 'loc: 3.38371595,-76.52562973',\n",
       "       'loc: 40.86723547,-73.88194633', 'loc: 19.45377194,-99.14143093',\n",
       "       'loc: 32.43289544,-85.70812703', 'loc: 49.87163,8.62272',\n",
       "       'loc: 51.23109019,4.44122392', 'loc: 49.87117567,8.62142685',\n",
       "       'loc: 51.2833666,-1.0700213', 'loc: 39.84193909,-86.01897387',\n",
       "       'loc: 50.1185156,-5.5372717', 'loc: -33.7082128,150.3071319',\n",
       "       'loc: 38.89065839,-77.00555649', 'loc: 34.09713318,-118.35154741',\n",
       "       'loc: 48.75027016,9.1041444', 'loc: 52.39718265,4.83291359',\n",
       "       'loc: 51.5229569,-0.1642589', 'loc: 28.0730529,-16.7001857',\n",
       "       'loc: 44.53457452,11.21427534', 'loc: 27.29577727,-82.49367119',\n",
       "       'loc: -19.9737461,-44.2083597', 'loc: 49.8684,8.6154233',\n",
       "       'loc: 53.19220382,-6.0996396', 'loc: 49.87558857,8.61860525',\n",
       "       'loc: 11.9785033,-86.0927493', 'loc: 32.9581141,-105.74423208',\n",
       "       'loc: 11.9785033,-86.0927494', 'loc: 55.61162981,-4.52874932',\n",
       "       'loc: 41.9589574,12.4579857', 'loc: 51.4453125,-3.1841121',\n",
       "       'loc: 38.76009711,-90.6962786', 'loc: 51.47053876,-0.07277363',\n",
       "       'loc: 28.0942998,-81.63505545', 'loc: 43.22054709,-77.41942217',\n",
       "       'loc: 41.48462436,-90.5459608', 'loc: 38.18339478,-84.79241501',\n",
       "       'loc: 40.4326405,-3.68560239', 'loc: 59.40581631,17.95668272',\n",
       "       'loc: 45.61854711,-75.6423861', 'loc: -20.2645392,-70.1286801',\n",
       "       'loc: 47.1912121,7.6819338', 'loc: 44.47426977,-73.21953781',\n",
       "       'loc: 43.5872338,-79.6342312', 'loc: 49.87273216,8.63152998',\n",
       "       'loc: 12.0612203,-86.2077952', 'loc: 41.67623216,-72.84008291',\n",
       "       'loc: 41.4939768,2.1892863', 'loc: 43.68647135,-79.35559563',\n",
       "       'loc: 59.83863904,17.64782554', 'loc: 52.16489144,4.47090287',\n",
       "       'loc: 64.1494593,-21.7819926', 'loc: 55.64919173,37.38543341',\n",
       "       'loc: 19.42864296,-99.16488829', 'loc: 59.83851724,17.6475213',\n",
       "       'loc: 45.2155798,1.4873794', 'loc: 51.49398536,-0.16627067',\n",
       "       'loc: 49.92476382,8.48612208', 'loc: 33.7616809,-84.3605302',\n",
       "       'loc: 59.83851605,17.64748122', 'loc: 53.27771151,-9.05912876',\n",
       "       'loc: 37.79023401,-122.42932944', 'loc: 50.81990349,-0.11740873',\n",
       "       'loc: 59.83851599,17.64748162', 'loc: 43.0887745,-77.4140532',\n",
       "       'loc: 51.8386964,4.6587757', 'loc: 19.42864296,-99.16118272',\n",
       "       'loc: 54.57681271,-1.10101953', 'loc: 39.00970581,-77.28423996',\n",
       "       'loc: 59.83851929,17.6475087', 'loc: 51.52109707,-0.10779701',\n",
       "       'loc: 37.3504661,37.1610325', 'loc: 53.4170787,-3.0428677',\n",
       "       'loc: 45.89346701,6.13576705', 'loc: 19.42865185,-99.16050164',\n",
       "       'loc: 48.83903411,2.36019542', 'loc: 50.969462,7.5226988',\n",
       "       'loc: 51.47655921,-0.1825254', 'loc: 18.40442057,-66.04596942',\n",
       "       'loc: 50.72072072,-3.529033', 'loc: 56.0317139,9.93259477',\n",
       "       'loc: 51.9871899,-0.97473482', 'loc: 46.8620799,-95.9760815',\n",
       "       'loc: 55.03689937,-1.70906002', 'loc: 42.51198207,1.53422686',\n",
       "       'loc: 48.82813795,2.27444582', 'loc: -20.3733229,-40.3043384',\n",
       "       'loc: 53.3477436,-2.7361918', 'loc: 50.8276792,-1.1880766',\n",
       "       'loc: -20.3731218,-40.3042372', 'loc: 51.50472393,-0.08939361',\n",
       "       'loc: 39.32294665,-84.21139544', 'loc: 8.8591617,-82.5775554',\n",
       "       'loc: 49.1329055,9.7542973', 'loc: 51.03544959,4.48365254',\n",
       "       'loc: 52.79325883,6.09947112', 'loc: 51.560558,9.9487007',\n",
       "       'loc: 53.485007,-2.2317273', 'loc: 60.446408,22.3017599',\n",
       "       'loc: 51.46983565,-0.4544735', 'loc: 47.45109634,8.55991849',\n",
       "       'loc: 49.8719528,8.623116', 'loc: 41.426786,2.1708934',\n",
       "       'loc: 51.98419962,-0.80020504', 'loc: 44.9925877,7.625796',\n",
       "       'loc: 51.4746378,-0.3690165', 'loc: 36.663263,-6.2466278',\n",
       "       'loc: 49.8712834,8.6235112', 'loc: 49.25592786,-123.11325784',\n",
       "       'loc: 49.2736317,-123.1159924', 'loc: 51.47467035,-0.36875124',\n",
       "       'loc: 53.8569045,-1.921837', 'loc: -26.1052474,27.90728904',\n",
       "       'loc: 51.39748577,-0.29743046', 'loc: 53.68845726,-2.82848492',\n",
       "       'loc: 23.7569656,90.3671095', 'loc: 52.4764647,-1.8923891',\n",
       "       'loc: 19.53652594,-99.23593262', 'loc: 19.1333305,72.9281785',\n",
       "       'loc: -6.96768541,107.63339766', 'loc: 37.049174,-88.6651627',\n",
       "       'loc: 53.3253698,-2.2343726', 'loc: -25.9874895,27.9856011',\n",
       "       'loc: 60.4696385,22.1860718', 'loc: 23.7570824,90.3670997',\n",
       "       'loc: -38.0480513,145.1203721', 'loc: 50.72072072,-3.50057305',\n",
       "       'loc: 23.7570947,90.3670897', 'loc: 51.64624709,-3.05398613',\n",
       "       'loc: 41.19904334,1.26489105', 'loc: -36.87966698,174.77200117',\n",
       "       'loc: 43.6964234,7.2738174', 'loc: 55.8241495,-4.5077765',\n",
       "       'loc: 14.59373,121.02751', 'loc: 52.08353487,4.27985247',\n",
       "       'loc: 12.13392644,-86.25340724', 'loc: -29.93610645,-71.28356401',\n",
       "       'loc: 12.13387684,-86.25336279', 'loc: 37.66911134,-121.67439812',\n",
       "       'loc: 42.8691158,-8.5633369', 'loc: 37.67266235,-1.69784776',\n",
       "       'loc: 54.1790889,-6.34884902', 'loc: 51.17117117,-0.17242236',\n",
       "       'loc: 57.9781887,56.2080067', 'loc: 39.10938162,-84.51678351',\n",
       "       'loc: 45.5036755,9.1578827', 'loc: 23.7569376,90.3671232',\n",
       "       'loc: 51.1132586,17.0504964', 'loc: 54.9612845,-1.8556438',\n",
       "       'loc: 44.98670521,7.52992486', 'loc: 53.4193074,-1.2354882',\n",
       "       'loc: 28.71817772,-13.8735512', 'loc: -26.10519157,27.9072171',\n",
       "       'loc: 51.38423248,-0.33647928', 'loc: 40.57056274,-7.02665405'], dtype=object)"
      ]
     },
     "execution_count": 11,
     "metadata": {},
     "output_type": "execute_result"
    }
   ],
   "source": [
    "df[\"geo_coordinates\"].unique()\n"
   ]
  },
  {
   "cell_type": "code",
   "execution_count": null,
   "metadata": {},
   "outputs": [],
   "source": []
  }
 ],
 "metadata": {
  "kernelspec": {
   "display_name": "Python 3",
   "language": "python",
   "name": "python3"
  },
  "language_info": {
   "codemirror_mode": {
    "name": "ipython",
    "version": 3
   },
   "file_extension": ".py",
   "mimetype": "text/x-python",
   "name": "python",
   "nbconvert_exporter": "python",
   "pygments_lexer": "ipython3",
   "version": "3.6.5"
  }
 },
 "nbformat": 4,
 "nbformat_minor": 2
}
