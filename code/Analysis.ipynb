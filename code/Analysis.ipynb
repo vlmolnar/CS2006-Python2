{
 "cells": [
  {
   "cell_type": "code",
   "execution_count": 1,
   "metadata": {},
   "outputs": [],
   "source": [
    "import pandas as pd"
   ]
  },
  {
   "cell_type": "code",
   "execution_count": 2,
   "metadata": {},
   "outputs": [],
   "source": [
    "%matplotlib inline\n",
    "import matplotlib.pyplot as plt"
   ]
  },
  {
   "cell_type": "code",
   "execution_count": 3,
   "metadata": {},
   "outputs": [],
   "source": [
    "import analysis as an"
   ]
  },
  {
   "cell_type": "code",
   "execution_count": 4,
   "metadata": {},
   "outputs": [],
   "source": [
    "import visualisation as vis"
   ]
  },
  {
   "cell_type": "code",
   "execution_count": 5,
   "metadata": {},
   "outputs": [],
   "source": [
    "import network as nt"
   ]
  },
  {
   "cell_type": "code",
   "execution_count": 6,
   "metadata": {},
   "outputs": [],
   "source": [
    "df=pd.read_csv(\"../data/CometLanding_ref.csv\")"
   ]
  },
  {
   "cell_type": "code",
   "execution_count": 7,
   "metadata": {
    "scrolled": true
   },
   "outputs": [],
   "source": [
    "#times = an.getTweetsPerDay(df)"
   ]
  },
  {
   "cell_type": "code",
   "execution_count": 8,
   "metadata": {},
   "outputs": [],
   "source": [
    "#vis.plotTweetsPerDay(times)"
   ]
  },
  {
   "cell_type": "code",
   "execution_count": 9,
   "metadata": {},
   "outputs": [
    {
     "name": "stdout",
     "output_type": "stream",
     "text": [
      "Number of unique users: 50157\n"
     ]
    }
   ],
   "source": [
    " print(\"Number of unique users:\", an.getNumberOfUniqueUsers(df))"
   ]
  },
  {
   "cell_type": "code",
   "execution_count": 10,
   "metadata": {},
   "outputs": [],
   "source": [
    "# an.printAnalysis(df)"
   ]
  },
  {
   "cell_type": "code",
   "execution_count": 11,
   "metadata": {},
   "outputs": [],
   "source": [
    "# an.printAverages(df)"
   ]
  },
  {
   "cell_type": "code",
   "execution_count": 12,
   "metadata": {},
   "outputs": [],
   "source": [
    "#vis.plotStructure(df)"
   ]
  },
  {
   "cell_type": "code",
   "execution_count": 13,
   "metadata": {},
   "outputs": [],
   "source": [
    "#dict = an.getAppsUsed(df)"
   ]
  },
  {
   "cell_type": "code",
   "execution_count": 14,
   "metadata": {},
   "outputs": [],
   "source": [
    "#an.getPopularApps(5, dict)"
   ]
  },
  {
   "cell_type": "code",
   "execution_count": 15,
   "metadata": {},
   "outputs": [],
   "source": [
    "#vis.plotStructure(df)"
   ]
  },
  {
   "cell_type": "code",
   "execution_count": 16,
   "metadata": {},
   "outputs": [],
   "source": [
    "#vis.plotApps(df)"
   ]
  },
  {
   "cell_type": "code",
   "execution_count": 17,
   "metadata": {},
   "outputs": [],
   "source": [
    "#df.dtypes\n"
   ]
  },
  {
   "cell_type": "code",
   "execution_count": 18,
   "metadata": {},
   "outputs": [],
   "source": [
    "#hoursOfTweets = an.getTweetsAtTimeOfDayGlobal(df)"
   ]
  },
  {
   "cell_type": "code",
   "execution_count": 19,
   "metadata": {},
   "outputs": [],
   "source": [
    "#vis.plotTweetsPerHour(hoursOfTweets)"
   ]
  },
  {
   "cell_type": "code",
   "execution_count": 20,
   "metadata": {},
   "outputs": [],
   "source": [
    "# hoursOfTweetsLocal = an.getTweetsAtTimeOfDayLocal(df)"
   ]
  },
  {
   "cell_type": "code",
   "execution_count": 21,
   "metadata": {},
   "outputs": [],
   "source": [
    "#vis.plotTweetsPerHour(hoursOfTweetsLocal)"
   ]
  },
  {
   "cell_type": "code",
   "execution_count": 22,
   "metadata": {},
   "outputs": [],
   "source": [
    "#nt.getNodesOfUsers(df)"
   ]
  },
  {
   "cell_type": "code",
   "execution_count": 23,
   "metadata": {},
   "outputs": [
    {
     "name": "stdout",
     "output_type": "stream",
     "text": [
      "from amika0078788556 user: VersaTechnology:\n",
      "from MHuuskoL user: EUCouncil:\n",
      "from SaraGomezAranci user: EUCouncil:\n",
      "from CBCDay6 user: shaunmajumder:\n",
      "from MBernacconi user: EUCouncil:\n",
      "from markcritch user: shaunmajumder:\n",
      "from vencivelev user: VersaTechnology:\n",
      "from Kristenpanz user: costumepups:\n"
     ]
    }
   ],
   "source": [
    "nt.get_edges_of_users(df)"
   ]
  },
  {
   "cell_type": "code",
   "execution_count": 24,
   "metadata": {},
   "outputs": [
    {
     "data": {
      "text/html": [
       "<div>\n",
       "<style scoped>\n",
       "    .dataframe tbody tr th:only-of-type {\n",
       "        vertical-align: middle;\n",
       "    }\n",
       "\n",
       "    .dataframe tbody tr th {\n",
       "        vertical-align: top;\n",
       "    }\n",
       "\n",
       "    .dataframe thead th {\n",
       "        text-align: right;\n",
       "    }\n",
       "</style>\n",
       "<table border=\"1\" class=\"dataframe\">\n",
       "  <thead>\n",
       "    <tr style=\"text-align: right;\">\n",
       "      <th></th>\n",
       "      <th>id_str</th>\n",
       "      <th>from_user</th>\n",
       "      <th>text</th>\n",
       "      <th>created_at</th>\n",
       "      <th>time</th>\n",
       "      <th>geo_coordinates</th>\n",
       "      <th>user_lang</th>\n",
       "      <th>in_reply_to_user_id_str</th>\n",
       "      <th>in_reply_to_screen_name</th>\n",
       "      <th>from_user_id_str</th>\n",
       "      <th>in_reply_to_status_id_str</th>\n",
       "      <th>source</th>\n",
       "      <th>profile_image_url</th>\n",
       "      <th>user_followers_count</th>\n",
       "      <th>user_friends_count</th>\n",
       "      <th>status_url</th>\n",
       "      <th>entities_str</th>\n",
       "    </tr>\n",
       "  </thead>\n",
       "  <tbody>\n",
       "    <tr>\n",
       "      <th>0</th>\n",
       "      <td>5.409304e+17</td>\n",
       "      <td>amika0078788556</td>\n",
       "      <td>RT @VersaTechnology: Congratulations @Philae20...</td>\n",
       "      <td>Fri Dec 05 18:07:14 +0000 2014</td>\n",
       "      <td>05/12/2014 18:07</td>\n",
       "      <td>NaN</td>\n",
       "      <td>en</td>\n",
       "      <td>NaN</td>\n",
       "      <td>NaN</td>\n",
       "      <td>1.297570e+09</td>\n",
       "      <td>NaN</td>\n",
       "      <td>&lt;a href=\"http://twitter.com\" rel=\"nofollow\"&gt;Tw...</td>\n",
       "      <td>http://pbs.twimg.com/profile_images/3555068293...</td>\n",
       "      <td>425.0</td>\n",
       "      <td>113.0</td>\n",
       "      <td>http://twitter.com/amika0078788556/statuses/54...</td>\n",
       "      <td>{\"hashtags\":[{\"text\":\"Philae\",\"indices\":[49,56...</td>\n",
       "    </tr>\n",
       "    <tr>\n",
       "      <th>1</th>\n",
       "      <td>5.409300e+17</td>\n",
       "      <td>ChrisDMarshall</td>\n",
       "      <td>CometWatch 2 December Â» Rosetta - ESA's comet...</td>\n",
       "      <td>Fri Dec 05 18:05:46 +0000 2014</td>\n",
       "      <td>05/12/2014 18:05</td>\n",
       "      <td>NaN</td>\n",
       "      <td>en</td>\n",
       "      <td>NaN</td>\n",
       "      <td>NaN</td>\n",
       "      <td>4.220121e+07</td>\n",
       "      <td>NaN</td>\n",
       "      <td>&lt;a href=\"https://dev.twitter.com/docs/tfw\" rel...</td>\n",
       "      <td>http://pbs.twimg.com/profile_images/228087980/...</td>\n",
       "      <td>347.0</td>\n",
       "      <td>1286.0</td>\n",
       "      <td>http://twitter.com/ChrisDMarshall/statuses/540...</td>\n",
       "      <td>{\"hashtags\":[{\"text\":\"CometLanding\",\"indices\":...</td>\n",
       "    </tr>\n",
       "    <tr>\n",
       "      <th>2</th>\n",
       "      <td>5.409300e+17</td>\n",
       "      <td>MHuuskoL</td>\n",
       "      <td>RT @EUCouncil: After the #CometLanding - Astro...</td>\n",
       "      <td>Fri Dec 05 18:05:36 +0000 2014</td>\n",
       "      <td>05/12/2014 18:05</td>\n",
       "      <td>NaN</td>\n",
       "      <td>en</td>\n",
       "      <td>NaN</td>\n",
       "      <td>NaN</td>\n",
       "      <td>5.744348e+08</td>\n",
       "      <td>NaN</td>\n",
       "      <td>&lt;a href=\"http://twitter.com/#!/download/ipad\" ...</td>\n",
       "      <td>http://pbs.twimg.com/profile_images/4973510588...</td>\n",
       "      <td>215.0</td>\n",
       "      <td>310.0</td>\n",
       "      <td>http://twitter.com/MHuuskoL/statuses/540929998...</td>\n",
       "      <td>{\"hashtags\":[{\"text\":\"CometLanding\",\"indices\":...</td>\n",
       "    </tr>\n",
       "    <tr>\n",
       "      <th>3</th>\n",
       "      <td>5.409293e+17</td>\n",
       "      <td>SaraGomezAranci</td>\n",
       "      <td>RT @EUCouncil: After the #CometLanding - Astro...</td>\n",
       "      <td>Fri Dec 05 18:03:00 +0000 2014</td>\n",
       "      <td>05/12/2014 18:03</td>\n",
       "      <td>NaN</td>\n",
       "      <td>fr</td>\n",
       "      <td>NaN</td>\n",
       "      <td>NaN</td>\n",
       "      <td>1.057356e+09</td>\n",
       "      <td>NaN</td>\n",
       "      <td>&lt;a href=\"http://twitter.com/download/iphone\" r...</td>\n",
       "      <td>http://pbs.twimg.com/profile_images/5391705804...</td>\n",
       "      <td>741.0</td>\n",
       "      <td>310.0</td>\n",
       "      <td>http://twitter.com/SaraGomezAranci/statuses/54...</td>\n",
       "      <td>{\"hashtags\":[{\"text\":\"CometLanding\",\"indices\":...</td>\n",
       "    </tr>\n",
       "    <tr>\n",
       "      <th>4</th>\n",
       "      <td>5.409292e+17</td>\n",
       "      <td>CBCDay6</td>\n",
       "      <td>RT @shaunmajumder: Feels good to be the @CBCDa...</td>\n",
       "      <td>Fri Dec 05 18:02:32 +0000 2014</td>\n",
       "      <td>05/12/2014 18:02</td>\n",
       "      <td>NaN</td>\n",
       "      <td>en</td>\n",
       "      <td>NaN</td>\n",
       "      <td>NaN</td>\n",
       "      <td>1.772769e+08</td>\n",
       "      <td>NaN</td>\n",
       "      <td>&lt;a href=\"http://twitter.com/download/android\" ...</td>\n",
       "      <td>http://pbs.twimg.com/profile_images/4590694303...</td>\n",
       "      <td>4331.0</td>\n",
       "      <td>2098.0</td>\n",
       "      <td>http://twitter.com/CBCDay6/statuses/5409292290...</td>\n",
       "      <td>{\"hashtags\":[{\"text\":\"MiniMansbridge\",\"indices...</td>\n",
       "    </tr>\n",
       "    <tr>\n",
       "      <th>5</th>\n",
       "      <td>5.409287e+17</td>\n",
       "      <td>MBernacconi</td>\n",
       "      <td>RT @EUCouncil: After the #CometLanding - Astro...</td>\n",
       "      <td>Fri Dec 05 18:00:28 +0000 2014</td>\n",
       "      <td>05/12/2014 18:00</td>\n",
       "      <td>NaN</td>\n",
       "      <td>en</td>\n",
       "      <td>NaN</td>\n",
       "      <td>NaN</td>\n",
       "      <td>4.790749e+07</td>\n",
       "      <td>NaN</td>\n",
       "      <td>&lt;a href=\"http://twitter.com\" rel=\"nofollow\"&gt;Tw...</td>\n",
       "      <td>http://pbs.twimg.com/profile_images/5331943059...</td>\n",
       "      <td>317.0</td>\n",
       "      <td>478.0</td>\n",
       "      <td>http://twitter.com/MBernacconi/statuses/540928...</td>\n",
       "      <td>{\"hashtags\":[{\"text\":\"CometLanding\",\"indices\":...</td>\n",
       "    </tr>\n",
       "    <tr>\n",
       "      <th>6</th>\n",
       "      <td>5.409269e+17</td>\n",
       "      <td>markcritch</td>\n",
       "      <td>RT @shaunmajumder: Feels good to be the @CBCDa...</td>\n",
       "      <td>Fri Dec 05 17:53:14 +0000 2014</td>\n",
       "      <td>05/12/2014 17:53</td>\n",
       "      <td>NaN</td>\n",
       "      <td>en</td>\n",
       "      <td>NaN</td>\n",
       "      <td>NaN</td>\n",
       "      <td>2.461882e+07</td>\n",
       "      <td>NaN</td>\n",
       "      <td>&lt;a href=\"http://twitter.com/download/iphone\" r...</td>\n",
       "      <td>http://pbs.twimg.com/profile_images/4204092788...</td>\n",
       "      <td>41655.0</td>\n",
       "      <td>745.0</td>\n",
       "      <td>http://twitter.com/markcritch/statuses/5409268...</td>\n",
       "      <td>{\"hashtags\":[{\"text\":\"MiniMansbridge\",\"indices...</td>\n",
       "    </tr>\n",
       "    <tr>\n",
       "      <th>7</th>\n",
       "      <td>5.409262e+17</td>\n",
       "      <td>vencivelev</td>\n",
       "      <td>RT @VersaTechnology: Congratulations @Philae20...</td>\n",
       "      <td>Fri Dec 05 17:50:33 +0000 2014</td>\n",
       "      <td>05/12/2014 17:50</td>\n",
       "      <td>NaN</td>\n",
       "      <td>en</td>\n",
       "      <td>NaN</td>\n",
       "      <td>NaN</td>\n",
       "      <td>1.386198e+09</td>\n",
       "      <td>NaN</td>\n",
       "      <td>&lt;a href=\"http://twitter.com\" rel=\"nofollow\"&gt;Tw...</td>\n",
       "      <td>http://pbs.twimg.com/profile_images/3611682679...</td>\n",
       "      <td>214.0</td>\n",
       "      <td>106.0</td>\n",
       "      <td>http://twitter.com/vencivelev/statuses/5409262...</td>\n",
       "      <td>{\"hashtags\":[{\"text\":\"Philae\",\"indices\":[49,56...</td>\n",
       "    </tr>\n",
       "    <tr>\n",
       "      <th>8</th>\n",
       "      <td>5.409256e+17</td>\n",
       "      <td>shaunmajumder</td>\n",
       "      <td>Feels good to be the @CBCDay6 champion beating...</td>\n",
       "      <td>Fri Dec 05 17:48:05 +0000 2014</td>\n",
       "      <td>05/12/2014 17:48</td>\n",
       "      <td>NaN</td>\n",
       "      <td>en</td>\n",
       "      <td>NaN</td>\n",
       "      <td>NaN</td>\n",
       "      <td>1.768052e+07</td>\n",
       "      <td>NaN</td>\n",
       "      <td>&lt;a href=\"http://twitter.com/download/iphone\" r...</td>\n",
       "      <td>http://pbs.twimg.com/profile_images/1312790905...</td>\n",
       "      <td>67013.0</td>\n",
       "      <td>1973.0</td>\n",
       "      <td>http://twitter.com/shaunmajumder/statuses/5409...</td>\n",
       "      <td>{\"hashtags\":[{\"text\":\"MiniMansbridge\",\"indices...</td>\n",
       "    </tr>\n",
       "    <tr>\n",
       "      <th>9</th>\n",
       "      <td>5.409251e+17</td>\n",
       "      <td>EUCouncil</td>\n",
       "      <td>After the #CometLanding - Astronaut @astro_luc...</td>\n",
       "      <td>Fri Dec 05 17:45:58 +0000 2014</td>\n",
       "      <td>05/12/2014 17:45</td>\n",
       "      <td>NaN</td>\n",
       "      <td>en</td>\n",
       "      <td>NaN</td>\n",
       "      <td>NaN</td>\n",
       "      <td>2.067180e+08</td>\n",
       "      <td>NaN</td>\n",
       "      <td>&lt;a href=\"http://twitter.com\" rel=\"nofollow\"&gt;Tw...</td>\n",
       "      <td>http://pbs.twimg.com/profile_images/4838611162...</td>\n",
       "      <td>52050.0</td>\n",
       "      <td>360.0</td>\n",
       "      <td>http://twitter.com/EUCouncil/statuses/54092505...</td>\n",
       "      <td>{\"hashtags\":[{\"text\":\"CometLanding\",\"indices\":...</td>\n",
       "    </tr>\n",
       "  </tbody>\n",
       "</table>\n",
       "</div>"
      ],
      "text/plain": [
       "         id_str        from_user  \\\n",
       "0  5.409304e+17  amika0078788556   \n",
       "1  5.409300e+17   ChrisDMarshall   \n",
       "2  5.409300e+17         MHuuskoL   \n",
       "3  5.409293e+17  SaraGomezAranci   \n",
       "4  5.409292e+17          CBCDay6   \n",
       "5  5.409287e+17      MBernacconi   \n",
       "6  5.409269e+17       markcritch   \n",
       "7  5.409262e+17       vencivelev   \n",
       "8  5.409256e+17    shaunmajumder   \n",
       "9  5.409251e+17        EUCouncil   \n",
       "\n",
       "                                                text  \\\n",
       "0  RT @VersaTechnology: Congratulations @Philae20...   \n",
       "1  CometWatch 2 December Â» Rosetta - ESA's comet...   \n",
       "2  RT @EUCouncil: After the #CometLanding - Astro...   \n",
       "3  RT @EUCouncil: After the #CometLanding - Astro...   \n",
       "4  RT @shaunmajumder: Feels good to be the @CBCDa...   \n",
       "5  RT @EUCouncil: After the #CometLanding - Astro...   \n",
       "6  RT @shaunmajumder: Feels good to be the @CBCDa...   \n",
       "7  RT @VersaTechnology: Congratulations @Philae20...   \n",
       "8  Feels good to be the @CBCDay6 champion beating...   \n",
       "9  After the #CometLanding - Astronaut @astro_luc...   \n",
       "\n",
       "                       created_at              time geo_coordinates user_lang  \\\n",
       "0  Fri Dec 05 18:07:14 +0000 2014  05/12/2014 18:07             NaN        en   \n",
       "1  Fri Dec 05 18:05:46 +0000 2014  05/12/2014 18:05             NaN        en   \n",
       "2  Fri Dec 05 18:05:36 +0000 2014  05/12/2014 18:05             NaN        en   \n",
       "3  Fri Dec 05 18:03:00 +0000 2014  05/12/2014 18:03             NaN        fr   \n",
       "4  Fri Dec 05 18:02:32 +0000 2014  05/12/2014 18:02             NaN        en   \n",
       "5  Fri Dec 05 18:00:28 +0000 2014  05/12/2014 18:00             NaN        en   \n",
       "6  Fri Dec 05 17:53:14 +0000 2014  05/12/2014 17:53             NaN        en   \n",
       "7  Fri Dec 05 17:50:33 +0000 2014  05/12/2014 17:50             NaN        en   \n",
       "8  Fri Dec 05 17:48:05 +0000 2014  05/12/2014 17:48             NaN        en   \n",
       "9  Fri Dec 05 17:45:58 +0000 2014  05/12/2014 17:45             NaN        en   \n",
       "\n",
       "   in_reply_to_user_id_str in_reply_to_screen_name  from_user_id_str  \\\n",
       "0                      NaN                     NaN      1.297570e+09   \n",
       "1                      NaN                     NaN      4.220121e+07   \n",
       "2                      NaN                     NaN      5.744348e+08   \n",
       "3                      NaN                     NaN      1.057356e+09   \n",
       "4                      NaN                     NaN      1.772769e+08   \n",
       "5                      NaN                     NaN      4.790749e+07   \n",
       "6                      NaN                     NaN      2.461882e+07   \n",
       "7                      NaN                     NaN      1.386198e+09   \n",
       "8                      NaN                     NaN      1.768052e+07   \n",
       "9                      NaN                     NaN      2.067180e+08   \n",
       "\n",
       "   in_reply_to_status_id_str  \\\n",
       "0                        NaN   \n",
       "1                        NaN   \n",
       "2                        NaN   \n",
       "3                        NaN   \n",
       "4                        NaN   \n",
       "5                        NaN   \n",
       "6                        NaN   \n",
       "7                        NaN   \n",
       "8                        NaN   \n",
       "9                        NaN   \n",
       "\n",
       "                                              source  \\\n",
       "0  <a href=\"http://twitter.com\" rel=\"nofollow\">Tw...   \n",
       "1  <a href=\"https://dev.twitter.com/docs/tfw\" rel...   \n",
       "2  <a href=\"http://twitter.com/#!/download/ipad\" ...   \n",
       "3  <a href=\"http://twitter.com/download/iphone\" r...   \n",
       "4  <a href=\"http://twitter.com/download/android\" ...   \n",
       "5  <a href=\"http://twitter.com\" rel=\"nofollow\">Tw...   \n",
       "6  <a href=\"http://twitter.com/download/iphone\" r...   \n",
       "7  <a href=\"http://twitter.com\" rel=\"nofollow\">Tw...   \n",
       "8  <a href=\"http://twitter.com/download/iphone\" r...   \n",
       "9  <a href=\"http://twitter.com\" rel=\"nofollow\">Tw...   \n",
       "\n",
       "                                   profile_image_url  user_followers_count  \\\n",
       "0  http://pbs.twimg.com/profile_images/3555068293...                 425.0   \n",
       "1  http://pbs.twimg.com/profile_images/228087980/...                 347.0   \n",
       "2  http://pbs.twimg.com/profile_images/4973510588...                 215.0   \n",
       "3  http://pbs.twimg.com/profile_images/5391705804...                 741.0   \n",
       "4  http://pbs.twimg.com/profile_images/4590694303...                4331.0   \n",
       "5  http://pbs.twimg.com/profile_images/5331943059...                 317.0   \n",
       "6  http://pbs.twimg.com/profile_images/4204092788...               41655.0   \n",
       "7  http://pbs.twimg.com/profile_images/3611682679...                 214.0   \n",
       "8  http://pbs.twimg.com/profile_images/1312790905...               67013.0   \n",
       "9  http://pbs.twimg.com/profile_images/4838611162...               52050.0   \n",
       "\n",
       "   user_friends_count                                         status_url  \\\n",
       "0               113.0  http://twitter.com/amika0078788556/statuses/54...   \n",
       "1              1286.0  http://twitter.com/ChrisDMarshall/statuses/540...   \n",
       "2               310.0  http://twitter.com/MHuuskoL/statuses/540929998...   \n",
       "3               310.0  http://twitter.com/SaraGomezAranci/statuses/54...   \n",
       "4              2098.0  http://twitter.com/CBCDay6/statuses/5409292290...   \n",
       "5               478.0  http://twitter.com/MBernacconi/statuses/540928...   \n",
       "6               745.0  http://twitter.com/markcritch/statuses/5409268...   \n",
       "7               106.0  http://twitter.com/vencivelev/statuses/5409262...   \n",
       "8              1973.0  http://twitter.com/shaunmajumder/statuses/5409...   \n",
       "9               360.0  http://twitter.com/EUCouncil/statuses/54092505...   \n",
       "\n",
       "                                        entities_str  \n",
       "0  {\"hashtags\":[{\"text\":\"Philae\",\"indices\":[49,56...  \n",
       "1  {\"hashtags\":[{\"text\":\"CometLanding\",\"indices\":...  \n",
       "2  {\"hashtags\":[{\"text\":\"CometLanding\",\"indices\":...  \n",
       "3  {\"hashtags\":[{\"text\":\"CometLanding\",\"indices\":...  \n",
       "4  {\"hashtags\":[{\"text\":\"MiniMansbridge\",\"indices...  \n",
       "5  {\"hashtags\":[{\"text\":\"CometLanding\",\"indices\":...  \n",
       "6  {\"hashtags\":[{\"text\":\"MiniMansbridge\",\"indices...  \n",
       "7  {\"hashtags\":[{\"text\":\"Philae\",\"indices\":[49,56...  \n",
       "8  {\"hashtags\":[{\"text\":\"MiniMansbridge\",\"indices...  \n",
       "9  {\"hashtags\":[{\"text\":\"CometLanding\",\"indices\":...  "
      ]
     },
     "execution_count": 24,
     "metadata": {},
     "output_type": "execute_result"
    }
   ],
   "source": [
    "df[:10]"
   ]
  },
  {
   "cell_type": "code",
   "execution_count": null,
   "metadata": {},
   "outputs": [],
   "source": []
  }
 ],
 "metadata": {
  "kernelspec": {
   "display_name": "Python 3",
   "language": "python",
   "name": "python3"
  },
  "language_info": {
   "codemirror_mode": {
    "name": "ipython",
    "version": 3
   },
   "file_extension": ".py",
   "mimetype": "text/x-python",
   "name": "python",
   "nbconvert_exporter": "python",
   "pygments_lexer": "ipython3",
   "version": "3.6.5"
  }
 },
 "nbformat": 4,
 "nbformat_minor": 2
}
