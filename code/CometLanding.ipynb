{
 "cells": [
  {
   "cell_type": "code",
   "execution_count": 1,
   "metadata": {},
   "outputs": [],
   "source": [
    "import pandas as pd"
   ]
  },
  {
   "cell_type": "code",
   "execution_count": 2,
   "metadata": {},
   "outputs": [],
   "source": [
    "import refine as rf"
   ]
  },
  {
   "cell_type": "code",
   "execution_count": 3,
   "metadata": {},
   "outputs": [],
   "source": [
    "df=pd.read_csv(\"../data/CometLanding.csv\")"
   ]
  },
  {
   "cell_type": "code",
   "execution_count": 4,
   "metadata": {
    "scrolled": false
   },
   "outputs": [
    {
     "data": {
      "text/plain": [
       "77319"
      ]
     },
     "execution_count": 4,
     "metadata": {},
     "output_type": "execute_result"
    }
   ],
   "source": [
    "len(df)\n"
   ]
  },
  {
   "cell_type": "code",
   "execution_count": 5,
   "metadata": {},
   "outputs": [],
   "source": [
    "df = df.drop_duplicates(keep = False)"
   ]
  },
  {
   "cell_type": "code",
   "execution_count": 6,
   "metadata": {
    "scrolled": false
   },
   "outputs": [
    {
     "data": {
      "text/plain": [
       "77299"
      ]
     },
     "execution_count": 6,
     "metadata": {},
     "output_type": "execute_result"
    }
   ],
   "source": [
    "len(df)"
   ]
  },
  {
   "cell_type": "code",
   "execution_count": 7,
   "metadata": {},
   "outputs": [
    {
     "data": {
      "text/plain": [
       "id_str                       float64\n",
       "from_user                     object\n",
       "text                          object\n",
       "created_at                    object\n",
       "time                          object\n",
       "geo_coordinates               object\n",
       "user_lang                     object\n",
       "in_reply_to_user_id_str      float64\n",
       "in_reply_to_screen_name       object\n",
       "from_user_id_str             float64\n",
       "in_reply_to_status_id_str    float64\n",
       "source                        object\n",
       "profile_image_url             object\n",
       "user_followers_count         float64\n",
       "user_friends_count           float64\n",
       "status_url                    object\n",
       "entities_str                  object\n",
       "dtype: object"
      ]
     },
     "execution_count": 7,
     "metadata": {},
     "output_type": "execute_result"
    }
   ],
   "source": [
    "df.dtypes"
   ]
  },
  {
   "cell_type": "code",
   "execution_count": 8,
   "metadata": {},
   "outputs": [],
   "source": [
    "df = rf.removeNAN(df)"
   ]
  },
  {
   "cell_type": "code",
   "execution_count": 9,
   "metadata": {},
   "outputs": [
    {
     "data": {
      "text/plain": [
       "77083"
      ]
     },
     "execution_count": 9,
     "metadata": {},
     "output_type": "execute_result"
    }
   ],
   "source": [
    "len(df)"
   ]
  },
  {
   "cell_type": "code",
   "execution_count": 10,
   "metadata": {},
   "outputs": [
    {
     "data": {
      "text/plain": [
       "array([ '{\"hashtags\":[{\"text\":\"Philae\",\"indices\":[49,56]},{\"text\":\"CometLanding\",\"indices\":[139,140]}],\"symbols\":[],\"user_mentions\":[{\"screen_name\":\"VersaTechnology\",\"name\":\"Versa Technology\",\"id\":30264992,\"id_str\":\"30264992\",\"indices\":[3,19]},{\"screen_name\":\"Philae2014\",\"name\":\"Philae Lander\",\"id\":208442526,\"id_str\":\"208442526\",\"indices\":[37,48]}],\"urls\":[{\"url\":\"http://t.co/6SoGeZTS9N\",\"expanded_url\":\"http://cnn.it/1qDQu0s\",\"display_url\":\"cnn.it/1qDQu0s\",\"indices\":[139,140]}]}',\n",
       "       '{\"hashtags\":[{\"text\":\"CometLanding\",\"indices\":[54,67]},{\"text\":\"CometWatch\",\"indices\":[69,80]},{\"text\":\"lander\",\"indices\":[81,88]},{\"text\":\"navcam\",\"indices\":[89,96]}],\"symbols\":[],\"user_mentions\":[],\"urls\":[{\"url\":\"http://t.co/cxgu1KKd3s\",\"expanded_url\":\"http://blogs.esa.int/rosetta/2014/12/05/cometwatch-2-december/\",\"display_url\":\"blogs.esa.int/rosetta/2014/1â€¦\",\"indices\":[104,126]}]}',\n",
       "       '{\"hashtags\":[{\"text\":\"CometLanding\",\"indices\":[25,38]}],\"symbols\":[],\"user_mentions\":[{\"screen_name\":\"EUCouncil\",\"name\":\"EU Council\",\"id\":206717989,\"id_str\":\"206717989\",\"indices\":[3,13]},{\"screen_name\":\"astro_luca\",\"name\":\"Luca Parmitano\",\"id\":290876018,\"id_str\":\"290876018\",\"indices\":[51,62]}],\"urls\":[{\"url\":\"http://t.co/ZjKAgpXhkt\",\"expanded_url\":\"http://ow.ly/FqZCE\",\"display_url\":\"ow.ly/FqZCE\",\"indices\":[108,130]}],\"media\":[{\"id\":540925054033621000,\"id_str\":\"540925054033620992\",\"indices\":[139,140],\"media_url\":\"http://pbs.twimg.com/media/B4HAeH_IcAAUwSv.jpg\",\"media_url_https\":\"https://pbs.twimg.com/media/B4HAeH_IcAAUwSv.jpg\",\"url\":\"http://t.co/6R7yKrQh9I\",\"display_url\":\"pic.twitter.com/6R7yKrQh9I\",\"expanded_url\":\"http://twitter.com/EUCouncil/status/540925056533413888/photo/1\",\"type\":\"photo\",\"sizes\":{\"small\":{\"w\":340,\"h\":340,\"resize\":\"fit\"},\"thumb\":{\"w\":150,\"h\":150,\"resize\":\"crop\"},\"medium\":{\"w\":600,\"h\":600,\"resize\":\"fit\"},\"large\":{\"w\":1024,\"h\":1024,\"resize\":\"fit\"}},\"source_status_id\":540925056533413900,\"source_status_id_str\":\"540925056533413888\"}]}',\n",
       "       ...,\n",
       "       '{\"hashtags\":[{\"text\":\"CometLanding\",\"indices\":[79,92]},{\"text\":\"jp86\",\"indices\":[116,121]}],\"symbols\":[],\"user_mentions\":[],\"urls\":[{\"url\":\"http://t.co/Iwv2BPSROH\",\"expanded_url\":\"http://jp86.co.vu/2rfq\",\"display_url\":\"jp86.co.vu/2rfq\",\"indices\":[93,115]}]}',\n",
       "       '{\"hashtags\":[{\"text\":\"CometLanding\",\"indices\":[120,133]}],\"symbols\":[],\"user_mentions\":[{\"screen_name\":\"willgoodbody\",\"name\":\"Will Goodbody\",\"id\":107100041,\"id_str\":\"107100041\",\"indices\":[3,16]},{\"screen_name\":\"esa\",\"name\":\"ESA\",\"id\":21436960,\"id_str\":\"21436960\",\"indices\":[22,26]},{\"screen_name\":\"Philae2014\",\"name\":\"Philae Lander\",\"id\":208442526,\"id_str\":\"208442526\",\"indices\":[60,71]},{\"screen_name\":\"ESA_Rosetta\",\"name\":\"ESA Rosetta Mission\",\"id\":253536357,\"id_str\":\"253536357\",\"indices\":[88,100]}],\"urls\":[]}',\n",
       "       '{\"hashtags\":[{\"text\":\"GUERRIERO\",\"indices\":[44,54]},{\"text\":\"portaaporta\",\"indices\":[57,69]},{\"text\":\"CometLanding\",\"indices\":[72,85]},{\"text\":\"TorSapienza\",\"indices\":[88,100]},{\"text\":\"Rosetta\",\"indices\":[103,111]}],\"symbols\":[],\"user_mentions\":[{\"screen_name\":\"dsdanyds\",\"name\":\"daniela sforza\",\"id\":406884842,\"id_str\":\"406884842\",\"indices\":[3,12]}],\"urls\":[]}'], dtype=object)"
      ]
     },
     "execution_count": 10,
     "metadata": {},
     "output_type": "execute_result"
    }
   ],
   "source": [
    "df[\"entities_str\"].unique()"
   ]
  },
  {
   "cell_type": "code",
   "execution_count": 11,
   "metadata": {},
   "outputs": [
    {
     "data": {
      "text/plain": [
       "array(['en', 'fr', 'de', 'th', 'es', 'it', 'en-gb', 'ca', 'ru', 'ar', 'pt',\n",
       "       'nl', 'tr', 'ja', 'no', 'pl', 'ko', 'da', 'ro', 'uk', 'fi', 'sv',\n",
       "       'hu', 'cs', 'id', 'zh-cn', 'fil', 'xx-lc', 'zh-Hans', 'el', 'es-MX',\n",
       "       'zh-CN', 'en-AU', 'eu', 'en-GB', 'pt-PT', 'gl', 'he', 'bg', 'zh-tw',\n",
       "       'nb', 'fa', 'vi', 'msa', 'ur', 'hi'], dtype=object)"
      ]
     },
     "execution_count": 11,
     "metadata": {},
     "output_type": "execute_result"
    }
   ],
   "source": [
    "df[\"user_lang\"].unique()\n"
   ]
  },
  {
   "cell_type": "code",
   "execution_count": 12,
   "metadata": {},
   "outputs": [],
   "source": [
    "df = rf.langCheck(df)"
   ]
  },
  {
   "cell_type": "code",
   "execution_count": 13,
   "metadata": {},
   "outputs": [
    {
     "data": {
      "text/plain": [
       "array(['en', 'fr', 'de', 'th', 'es', 'it', 'en-gb', 'ca', 'ru', 'ar', 'pt',\n",
       "       'nl', 'tr', 'ja', 'no', 'pl', 'ko', 'da', 'ro', 'uk', 'fi', 'sv',\n",
       "       'hu', 'cs', 'id', 'zh-cn', 'fil', 'xx-lc', 'zh-hans', 'el', 'es-mx',\n",
       "       'en-au', 'eu', 'pt-pt', 'gl', 'he', 'bg', 'zh-tw', 'nb', 'fa', 'vi',\n",
       "       'msa', 'ur', 'hi'], dtype=object)"
      ]
     },
     "execution_count": 13,
     "metadata": {},
     "output_type": "execute_result"
    }
   ],
   "source": [
    "df[\"user_lang\"].unique()"
   ]
  },
  {
   "cell_type": "code",
   "execution_count": 14,
   "metadata": {},
   "outputs": [
    {
     "data": {
      "text/plain": [
       "50157"
      ]
     },
     "execution_count": 14,
     "metadata": {},
     "output_type": "execute_result"
    }
   ],
   "source": [
    "len(df[\"from_user\"].unique())"
   ]
  },
  {
   "cell_type": "code",
   "execution_count": 15,
   "metadata": {},
   "outputs": [],
   "source": [
    "df = rf.fromUserCheck(df)"
   ]
  },
  {
   "cell_type": "code",
   "execution_count": null,
   "metadata": {},
   "outputs": [
    {
     "data": {
      "text/plain": [
       "50157"
      ]
     },
     "execution_count": 16,
     "metadata": {},
     "output_type": "execute_result"
    }
   ],
   "source": [
    "len(df[\"from_user\"].unique())"
   ]
  },
  {
   "cell_type": "code",
   "execution_count": null,
   "metadata": {},
   "outputs": [],
   "source": [
    "df = rf.textCheck(df)"
   ]
  },
  {
   "cell_type": "code",
   "execution_count": null,
   "metadata": {},
   "outputs": [],
   "source": [
    "rf.makeCSV(df)"
   ]
  }
 ],
 "metadata": {
  "kernelspec": {
   "display_name": "Python 3",
   "language": "python",
   "name": "python3"
  },
  "language_info": {
   "codemirror_mode": {
    "name": "ipython",
    "version": 3
   },
   "file_extension": ".py",
   "mimetype": "text/x-python",
   "name": "python",
   "nbconvert_exporter": "python",
   "pygments_lexer": "ipython3",
   "version": "3.6.5"
  }
 },
 "nbformat": 4,
 "nbformat_minor": 1
}
